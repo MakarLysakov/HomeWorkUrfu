{
 "cells": [
  {
   "cell_type": "code",
   "execution_count": null,
   "id": "98518899-8d8f-4111-8929-1a581b4cf106",
   "metadata": {},
   "outputs": [],
   "source": [
    "#import data from site and save this data in csv\n",
    "import requests\n",
    "import pandas as pd\n",
    "import time\n",
    "\n",
    "st = time.time()\n",
    "\n",
    "url = f'https://xn--80az8a.xn--d1aqf.xn--p1ai/%D1%81%D0%B5%D1%80%D0%B2%D0%B8%D1%81%D1%8B/api/kn/object?offset=1&limit=1&sortField=devId.devShortCleanNm&sortType=asc&objStatus=0'\n",
    "objects_data = requests.get(url).json()\n",
    "data = objects_data.get('data').get('list')\n",
    "df = pd.DataFrame.from_dict(data)\n",
    "\n",
    "\n",
    "urls = [f'https://xn--80az8a.xn--d1aqf.xn--p1ai/%D1%81%D0%B5%D1%80%D0%B2%D0%B8%D1%81%D1%8B/api/kn/object?offset={i-100}&limit=100&sortField=devId.devShortCleanNm&sortType=asc&objStatus=0' for i in range(102,11002,100)]\n",
    "for i in range(len(urls)):\n",
    "    res = requests.get(urls[i]).json()\n",
    "    pure_data = res.get('data').get('list')\n",
    "    df1 = pd.DataFrame.from_dict(pure_data)\n",
    "    df = pd.concat([df, df1])\n",
    "    #print(round(i/len(urls) * 100, 2), '%')\n",
    "\n",
    "\n",
    "df.to_csv('test1.csv', index = False, encoding=\"utf-8-sig\")\n",
    "print('the time is', round(time.time() - st,2), 'sec')\n",
    "\n"
   ]
  },
  {
   "cell_type": "code",
   "execution_count": 4,
   "id": "1683d03c-1769-49ed-a773-3b5b478a1f21",
   "metadata": {},
   "outputs": [],
   "source": [
    "import pandas as pd\n",
    "import matplotlib.pyplot as plt\n",
    "\n",
    "df = pd.read_csv('test1.csv')\n",
    "#df =  df.drop('developer', axis = 1)\n",
    "df = df.drop('complexShortName', axis = 1)\n",
    "df = df.drop('objCommercNm', axis = 1)\n",
    "df = df.dropna()\n",
    "#df.head()"
   ]
  },
  {
   "cell_type": "code",
   "execution_count": null,
   "id": "b328a877-663c-47d7-8087-abb86dc151d3",
   "metadata": {},
   "outputs": [],
   "source": []
  }
 ],
 "metadata": {
  "kernelspec": {
   "display_name": "Python 3 (ipykernel)",
   "language": "python",
   "name": "python3"
  },
  "language_info": {
   "codemirror_mode": {
    "name": "ipython",
    "version": 3
   },
   "file_extension": ".py",
   "mimetype": "text/x-python",
   "name": "python",
   "nbconvert_exporter": "python",
   "pygments_lexer": "ipython3",
   "version": "3.10.5"
  }
 },
 "nbformat": 4,
 "nbformat_minor": 5
}

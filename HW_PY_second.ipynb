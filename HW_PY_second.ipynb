{
 "cells": [
  {
   "cell_type": "markdown",
   "id": "e80d867f-7a60-409a-84b0-9f5e2a85dc65",
   "metadata": {},
   "source": [
    "# Импорт библиотек"
   ]
  },
  {
   "cell_type": "code",
   "execution_count": 2,
   "id": "109a3bf1-3d6d-4516-8772-add0575f1c4f",
   "metadata": {},
   "outputs": [],
   "source": [
    "import pandas as pd\n",
    "import numpy as np\n",
    "import matplotlib.pyplot as plt\n",
    "from collections import Counter\n",
    "from sklearn.preprocessing import OrdinalEncoder\n",
    "from sklearn.model_selection import train_test_split\n",
    "from sklearn.metrics import accuracy_score, f1_score, precision_score, recall_score\n",
    "from sklearn.linear_model import LogisticRegression\n",
    "from sklearn.linear_model import Perceptron"
   ]
  },
  {
   "cell_type": "markdown",
   "id": "42688ad3-e9e8-4bd2-acea-e9057d1776c9",
   "metadata": {},
   "source": [
    "# Открываю файл как ДФ, выкидываю index"
   ]
  },
  {
   "cell_type": "code",
   "execution_count": 3,
   "id": "9f330445-27b4-4a8e-b7a1-e77d04876bc0",
   "metadata": {},
   "outputs": [],
   "source": [
    "url = 'https://drive.google.com/file/d/1He5GI5_Gd8uXYfeETLBISQ5BszX0o4pU/view?usp=sharing'\n",
    "url = 'https://drive.google.com/uc?id=' + url.split('/')[-2]\n",
    "data = pd.read_csv(url,names=['index','gender', 'age', 'hypertension', 'heart_disease',\\\n",
    "                              'ever_married', 'work_type', 'Residence_type', 'avg_glucose_level',\\\n",
    "                              'bmi', 'smoking_status', 'stroke'])\n",
    "data = data.drop('index',axis=1)"
   ]
  },
  {
   "cell_type": "markdown",
   "id": "5633bc56-adce-4199-8b41-ab9f02a09041",
   "metadata": {},
   "source": [
    "# Убираю дубликаты, выкидываю третий гендер), ресечу индексы"
   ]
  },
  {
   "cell_type": "code",
   "execution_count": 4,
   "id": "b9f70ce3-1e64-4e50-a84f-25b2fbd62aeb",
   "metadata": {},
   "outputs": [
    {
     "data": {
      "text/html": [
       "<div>\n",
       "<style scoped>\n",
       "    .dataframe tbody tr th:only-of-type {\n",
       "        vertical-align: middle;\n",
       "    }\n",
       "\n",
       "    .dataframe tbody tr th {\n",
       "        vertical-align: top;\n",
       "    }\n",
       "\n",
       "    .dataframe thead th {\n",
       "        text-align: right;\n",
       "    }\n",
       "</style>\n",
       "<table border=\"1\" class=\"dataframe\">\n",
       "  <thead>\n",
       "    <tr style=\"text-align: right;\">\n",
       "      <th></th>\n",
       "      <th>gender</th>\n",
       "      <th>age</th>\n",
       "      <th>hypertension</th>\n",
       "      <th>heart_disease</th>\n",
       "      <th>ever_married</th>\n",
       "      <th>work_type</th>\n",
       "      <th>Residence_type</th>\n",
       "      <th>avg_glucose_level</th>\n",
       "      <th>bmi</th>\n",
       "      <th>smoking_status</th>\n",
       "      <th>stroke</th>\n",
       "    </tr>\n",
       "  </thead>\n",
       "  <tbody>\n",
       "    <tr>\n",
       "      <th>0</th>\n",
       "      <td>Male</td>\n",
       "      <td>67.0</td>\n",
       "      <td>0.0</td>\n",
       "      <td>1.0</td>\n",
       "      <td>Yes</td>\n",
       "      <td>Private</td>\n",
       "      <td>Urban</td>\n",
       "      <td>228.69</td>\n",
       "      <td>NaN</td>\n",
       "      <td>formerly smoked</td>\n",
       "      <td>1</td>\n",
       "    </tr>\n",
       "    <tr>\n",
       "      <th>1</th>\n",
       "      <td>Female</td>\n",
       "      <td>61.0</td>\n",
       "      <td>0.0</td>\n",
       "      <td>0.0</td>\n",
       "      <td>Yes</td>\n",
       "      <td>Self-employed</td>\n",
       "      <td>Rural</td>\n",
       "      <td>202.21</td>\n",
       "      <td>NaN</td>\n",
       "      <td>never smoked</td>\n",
       "      <td>1</td>\n",
       "    </tr>\n",
       "    <tr>\n",
       "      <th>2</th>\n",
       "      <td>Male</td>\n",
       "      <td>80.0</td>\n",
       "      <td>0.0</td>\n",
       "      <td>1.0</td>\n",
       "      <td>Yes</td>\n",
       "      <td>Private</td>\n",
       "      <td>NaN</td>\n",
       "      <td>105.92</td>\n",
       "      <td>32.5</td>\n",
       "      <td>never smoked</td>\n",
       "      <td>1</td>\n",
       "    </tr>\n",
       "    <tr>\n",
       "      <th>3</th>\n",
       "      <td>Female</td>\n",
       "      <td>49.0</td>\n",
       "      <td>0.0</td>\n",
       "      <td>0.0</td>\n",
       "      <td>Yes</td>\n",
       "      <td>Private</td>\n",
       "      <td>Urban</td>\n",
       "      <td>171.23</td>\n",
       "      <td>34.4</td>\n",
       "      <td>smokes</td>\n",
       "      <td>1</td>\n",
       "    </tr>\n",
       "    <tr>\n",
       "      <th>4</th>\n",
       "      <td>Female</td>\n",
       "      <td>79.0</td>\n",
       "      <td>1.0</td>\n",
       "      <td>0.0</td>\n",
       "      <td>Yes</td>\n",
       "      <td>Self-employed</td>\n",
       "      <td>Rural</td>\n",
       "      <td>174.12</td>\n",
       "      <td>24.0</td>\n",
       "      <td>never smoked</td>\n",
       "      <td>1</td>\n",
       "    </tr>\n",
       "  </tbody>\n",
       "</table>\n",
       "</div>"
      ],
      "text/plain": [
       "   gender   age hypertension heart_disease ever_married      work_type  \\\n",
       "0    Male  67.0          0.0           1.0          Yes        Private   \n",
       "1  Female  61.0          0.0           0.0          Yes  Self-employed   \n",
       "2    Male  80.0          0.0           1.0          Yes        Private   \n",
       "3  Female  49.0          0.0           0.0          Yes        Private   \n",
       "4  Female  79.0          1.0           0.0          Yes  Self-employed   \n",
       "\n",
       "  Residence_type avg_glucose_level   bmi   smoking_status stroke  \n",
       "0          Urban            228.69   NaN  formerly smoked      1  \n",
       "1          Rural            202.21   NaN     never smoked      1  \n",
       "2            NaN            105.92  32.5     never smoked      1  \n",
       "3          Urban            171.23  34.4           smokes      1  \n",
       "4          Rural            174.12  24.0     never smoked      1  "
      ]
     },
     "execution_count": 4,
     "metadata": {},
     "output_type": "execute_result"
    }
   ],
   "source": [
    "data = data.drop_duplicates()\n",
    "data.drop(index=data.index[0], axis = 0, inplace = True)\n",
    "data = data.drop(data[data['gender'] == 'Other'].index[0], axis = 0)\n",
    "data = data.reset_index(drop = True)\n",
    "\n",
    "data.head()"
   ]
  },
  {
   "cell_type": "markdown",
   "id": "876011d6-78e8-4867-90ce-3e987199f2c3",
   "metadata": {},
   "source": [
    "# На вход подается ДФ и все пропущенные значения заполняются модой. Функция возвращает измененный ДФ.\n",
    "### Не знаю, на сколько этот шаг оправдан, но я не супер парился"
   ]
  },
  {
   "cell_type": "code",
   "execution_count": 5,
   "id": "96824f56-8822-4b39-a025-dede0129315f",
   "metadata": {},
   "outputs": [
    {
     "name": "stdout",
     "output_type": "stream",
     "text": [
      "<class 'pandas.core.frame.DataFrame'>\n",
      "RangeIndex: 5105 entries, 0 to 5104\n",
      "Data columns (total 11 columns):\n",
      " #   Column             Non-Null Count  Dtype  \n",
      "---  ------             --------------  -----  \n",
      " 0   gender             5105 non-null   object \n",
      " 1   age                5105 non-null   float64\n",
      " 2   hypertension       5105 non-null   float64\n",
      " 3   heart_disease      5105 non-null   float64\n",
      " 4   ever_married       5105 non-null   object \n",
      " 5   work_type          5105 non-null   object \n",
      " 6   Residence_type     5105 non-null   object \n",
      " 7   avg_glucose_level  5105 non-null   float64\n",
      " 8   bmi                5105 non-null   float64\n",
      " 9   smoking_status     5105 non-null   object \n",
      " 10  stroke             5105 non-null   float64\n",
      "dtypes: float64(6), object(5)\n",
      "memory usage: 438.8+ KB\n"
     ]
    }
   ],
   "source": [
    "def fill_mode(data):\n",
    "    col = {'numbers': ['age','hypertension','heart_disease', 'avg_glucose_level', 'bmi', 'stroke'], \\\n",
    "           'cat' : ['gender', 'ever_married', 'work_type', 'Residence_type', 'smoking_status']}\n",
    "\n",
    "    for i in col['numbers']:\n",
    "        data[i] = data[i].astype('float64')\n",
    "        data[i].fillna(data[i].mode()[0], inplace = True)\n",
    "    for i in col['cat']:\n",
    "        data[i].fillna(data[i].mode()[0], inplace = True)\n",
    "    return data\n",
    "\n",
    "\n",
    "\n",
    "fill_mode(data).info()"
   ]
  },
  {
   "cell_type": "markdown",
   "id": "e1a9f37f-c412-4014-af4f-205625a5b79a",
   "metadata": {},
   "source": [
    "# Такой же принцип, как и в создании предыдущей функции\n",
    "### Только тут среднем заполняются числинные значения, а не категориальные. Категориальные заполняются модой"
   ]
  },
  {
   "cell_type": "code",
   "execution_count": 73,
   "id": "c56b3521-8e5b-401c-b645-a6a67a11ca39",
   "metadata": {},
   "outputs": [
    {
     "name": "stdout",
     "output_type": "stream",
     "text": [
      "<class 'pandas.core.frame.DataFrame'>\n",
      "RangeIndex: 5106 entries, 0 to 5105\n",
      "Data columns (total 11 columns):\n",
      " #   Column             Non-Null Count  Dtype  \n",
      "---  ------             --------------  -----  \n",
      " 0   gender             5106 non-null   object \n",
      " 1   age                5106 non-null   float64\n",
      " 2   hypertension       5106 non-null   float64\n",
      " 3   heart_disease      5106 non-null   float64\n",
      " 4   ever_married       5106 non-null   object \n",
      " 5   work_type          5106 non-null   object \n",
      " 6   Residence_type     5106 non-null   object \n",
      " 7   avg_glucose_level  5106 non-null   float64\n",
      " 8   bmi                5106 non-null   float64\n",
      " 9   smoking_status     5106 non-null   object \n",
      " 10  stroke             5106 non-null   float64\n",
      "dtypes: float64(6), object(5)\n",
      "memory usage: 438.9+ KB\n"
     ]
    }
   ],
   "source": [
    "def fill_avg(data):\n",
    "    col = {'numbers': ['age','hypertension','heart_disease', 'avg_glucose_level', 'bmi', 'stroke'], \\\n",
    "           'cat' : ['gender', 'ever_married', 'work_type', 'Residence_type', 'smoking_status']}\n",
    "\n",
    "    for i in col['numbers']:\n",
    "        data[i] = data[i].astype('float64')\n",
    "        data[i].fillna(round(data[i].mean()), inplace = True)\n",
    "    for i in col['cat']:\n",
    "        data[i].fillna(data[i].mode()[0], inplace = True)\n",
    "    return data\n",
    "\n",
    "\n",
    "\n",
    "fill_avg(data).info()"
   ]
  },
  {
   "cell_type": "markdown",
   "id": "da307115-b7ff-44ee-8791-3af02e25293e",
   "metadata": {},
   "source": [
    "# Тут я просто выполняю выведение всех данных, чтобы показать, что функции работают"
   ]
  },
  {
   "cell_type": "code",
   "execution_count": 42,
   "id": "b3c9c0c5-5823-4d0a-b6c9-021c0a8b8248",
   "metadata": {},
   "outputs": [
    {
     "name": "stdout",
     "output_type": "stream",
     "text": [
      "Counter({'Female': 2990, 'Male': 2115})\n",
      "Counter({0.0: 4632, 1.0: 473})\n",
      "Counter({0.0: 4875, 1.0: 230})\n",
      "Counter({'Yes': 3350, 'No': 1755})\n",
      "Counter({'Private': 3058, 'Self-employed': 771, 'children': 629, 'Govt_job': 625, 'Never_worked': 22})\n",
      "Counter({'Urban': 2972, 'Rural': 2133})\n",
      "Counter({'never smoked': 1892, 'Unknown': 1543, 'formerly smoked': 884, 'smokes': 786})\n",
      "Counter({0.0: 4856, 1.0: 249})\n"
     ]
    },
    {
     "data": {
      "image/png": "[encoded data removed]",
      "text/plain": [
       "<Figure size 864x432 with 3 Axes>"
      ]
     },
     "metadata": {
      "needs_background": "light"
     },
     "output_type": "display_data"
    }
   ],
   "source": [
    "for i in data:\n",
    "    if i != 'age' and i != 'avg_glucose_level' and i != 'bmi':\n",
    "        print(Counter(data[i]))\n",
    "count = 1  \n",
    "plt.figure(figsize=(12,6))\n",
    "for i in ['age', 'avg_glucose_level', 'bmi']:\n",
    "    plt.subplot(1,3, count)\n",
    "    plt.title(i)\n",
    "    plt.hist(data[i], bins=20)\n",
    "    count += 1"
   ]
  },
  {
   "cell_type": "markdown",
   "id": "d1788329-f0f8-4686-87b9-69d23fdaf9ac",
   "metadata": {},
   "source": [
    "# Создаю столбец таргет и таблицу для БэЙсЛаЙн МоДеЛи..."
   ]
  },
  {
   "cell_type": "code",
   "execution_count": 75,
   "id": "ac7f4a91-fca4-4bd0-a1f0-310cfc226615",
   "metadata": {},
   "outputs": [
    {
     "data": {
      "text/html": [
       "<div>\n",
       "<style scoped>\n",
       "    .dataframe tbody tr th:only-of-type {\n",
       "        vertical-align: middle;\n",
       "    }\n",
       "\n",
       "    .dataframe tbody tr th {\n",
       "        vertical-align: top;\n",
       "    }\n",
       "\n",
       "    .dataframe thead th {\n",
       "        text-align: right;\n",
       "    }\n",
       "</style>\n",
       "<table border=\"1\" class=\"dataframe\">\n",
       "  <thead>\n",
       "    <tr style=\"text-align: right;\">\n",
       "      <th></th>\n",
       "      <th>gender</th>\n",
       "      <th>age</th>\n",
       "      <th>hypertension</th>\n",
       "      <th>heart_disease</th>\n",
       "      <th>ever_married</th>\n",
       "      <th>work_type</th>\n",
       "      <th>Residence_type</th>\n",
       "      <th>avg_glucose_level</th>\n",
       "      <th>bmi</th>\n",
       "      <th>smoking_status</th>\n",
       "    </tr>\n",
       "  </thead>\n",
       "  <tbody>\n",
       "    <tr>\n",
       "      <th>0</th>\n",
       "      <td>Male</td>\n",
       "      <td>67.0</td>\n",
       "      <td>0.0</td>\n",
       "      <td>1.0</td>\n",
       "      <td>Yes</td>\n",
       "      <td>Private</td>\n",
       "      <td>Urban</td>\n",
       "      <td>228.69</td>\n",
       "      <td>29.0</td>\n",
       "      <td>formerly smoked</td>\n",
       "    </tr>\n",
       "    <tr>\n",
       "      <th>1</th>\n",
       "      <td>Female</td>\n",
       "      <td>61.0</td>\n",
       "      <td>0.0</td>\n",
       "      <td>0.0</td>\n",
       "      <td>Yes</td>\n",
       "      <td>Self-employed</td>\n",
       "      <td>Rural</td>\n",
       "      <td>202.21</td>\n",
       "      <td>29.0</td>\n",
       "      <td>never smoked</td>\n",
       "    </tr>\n",
       "    <tr>\n",
       "      <th>2</th>\n",
       "      <td>Male</td>\n",
       "      <td>80.0</td>\n",
       "      <td>0.0</td>\n",
       "      <td>1.0</td>\n",
       "      <td>Yes</td>\n",
       "      <td>Private</td>\n",
       "      <td>Urban</td>\n",
       "      <td>105.92</td>\n",
       "      <td>32.5</td>\n",
       "      <td>never smoked</td>\n",
       "    </tr>\n",
       "    <tr>\n",
       "      <th>3</th>\n",
       "      <td>Female</td>\n",
       "      <td>49.0</td>\n",
       "      <td>0.0</td>\n",
       "      <td>0.0</td>\n",
       "      <td>Yes</td>\n",
       "      <td>Private</td>\n",
       "      <td>Urban</td>\n",
       "      <td>171.23</td>\n",
       "      <td>34.4</td>\n",
       "      <td>smokes</td>\n",
       "    </tr>\n",
       "    <tr>\n",
       "      <th>4</th>\n",
       "      <td>Female</td>\n",
       "      <td>79.0</td>\n",
       "      <td>1.0</td>\n",
       "      <td>0.0</td>\n",
       "      <td>Yes</td>\n",
       "      <td>Self-employed</td>\n",
       "      <td>Rural</td>\n",
       "      <td>174.12</td>\n",
       "      <td>24.0</td>\n",
       "      <td>never smoked</td>\n",
       "    </tr>\n",
       "  </tbody>\n",
       "</table>\n",
       "</div>"
      ],
      "text/plain": [
       "   gender   age  hypertension  heart_disease ever_married      work_type  \\\n",
       "0    Male  67.0           0.0            1.0          Yes        Private   \n",
       "1  Female  61.0           0.0            0.0          Yes  Self-employed   \n",
       "2    Male  80.0           0.0            1.0          Yes        Private   \n",
       "3  Female  49.0           0.0            0.0          Yes        Private   \n",
       "4  Female  79.0           1.0            0.0          Yes  Self-employed   \n",
       "\n",
       "  Residence_type  avg_glucose_level   bmi   smoking_status  \n",
       "0          Urban             228.69  29.0  formerly smoked  \n",
       "1          Rural             202.21  29.0     never smoked  \n",
       "2          Urban             105.92  32.5     never smoked  \n",
       "3          Urban             171.23  34.4           smokes  \n",
       "4          Rural             174.12  24.0     never smoked  "
      ]
     },
     "execution_count": 75,
     "metadata": {},
     "output_type": "execute_result"
    }
   ],
   "source": [
    "tr = data['stroke']\n",
    "data_without_tr = data.drop('stroke', axis = 1)\n",
    "data_without_tr.head()"
   ]
  },
  {
   "cell_type": "markdown",
   "id": "dbdc9e52-c478-4678-aff9-6bcb397bb44a",
   "metadata": {},
   "source": [
    "# Применяю ординал энкодинг к столбцам категориальным"
   ]
  },
  {
   "cell_type": "code",
   "execution_count": 76,
   "id": "1ccddc94-7d0c-46d2-a2e9-86e0ea70229d",
   "metadata": {},
   "outputs": [
    {
     "data": {
      "text/html": [
       "<div>\n",
       "<style scoped>\n",
       "    .dataframe tbody tr th:only-of-type {\n",
       "        vertical-align: middle;\n",
       "    }\n",
       "\n",
       "    .dataframe tbody tr th {\n",
       "        vertical-align: top;\n",
       "    }\n",
       "\n",
       "    .dataframe thead th {\n",
       "        text-align: right;\n",
       "    }\n",
       "</style>\n",
       "<table border=\"1\" class=\"dataframe\">\n",
       "  <thead>\n",
       "    <tr style=\"text-align: right;\">\n",
       "      <th></th>\n",
       "      <th>gender</th>\n",
       "      <th>age</th>\n",
       "      <th>hypertension</th>\n",
       "      <th>heart_disease</th>\n",
       "      <th>ever_married</th>\n",
       "      <th>work_type</th>\n",
       "      <th>Residence_type</th>\n",
       "      <th>avg_glucose_level</th>\n",
       "      <th>bmi</th>\n",
       "      <th>smoking_status</th>\n",
       "    </tr>\n",
       "  </thead>\n",
       "  <tbody>\n",
       "    <tr>\n",
       "      <th>0</th>\n",
       "      <td>1.0</td>\n",
       "      <td>67.0</td>\n",
       "      <td>0.0</td>\n",
       "      <td>1.0</td>\n",
       "      <td>1.0</td>\n",
       "      <td>2.0</td>\n",
       "      <td>1.0</td>\n",
       "      <td>228.69</td>\n",
       "      <td>29.0</td>\n",
       "      <td>1.0</td>\n",
       "    </tr>\n",
       "    <tr>\n",
       "      <th>1</th>\n",
       "      <td>0.0</td>\n",
       "      <td>61.0</td>\n",
       "      <td>0.0</td>\n",
       "      <td>0.0</td>\n",
       "      <td>1.0</td>\n",
       "      <td>3.0</td>\n",
       "      <td>0.0</td>\n",
       "      <td>202.21</td>\n",
       "      <td>29.0</td>\n",
       "      <td>2.0</td>\n",
       "    </tr>\n",
       "    <tr>\n",
       "      <th>2</th>\n",
       "      <td>1.0</td>\n",
       "      <td>80.0</td>\n",
       "      <td>0.0</td>\n",
       "      <td>1.0</td>\n",
       "      <td>1.0</td>\n",
       "      <td>2.0</td>\n",
       "      <td>1.0</td>\n",
       "      <td>105.92</td>\n",
       "      <td>32.5</td>\n",
       "      <td>2.0</td>\n",
       "    </tr>\n",
       "    <tr>\n",
       "      <th>3</th>\n",
       "      <td>0.0</td>\n",
       "      <td>49.0</td>\n",
       "      <td>0.0</td>\n",
       "      <td>0.0</td>\n",
       "      <td>1.0</td>\n",
       "      <td>2.0</td>\n",
       "      <td>1.0</td>\n",
       "      <td>171.23</td>\n",
       "      <td>34.4</td>\n",
       "      <td>3.0</td>\n",
       "    </tr>\n",
       "    <tr>\n",
       "      <th>4</th>\n",
       "      <td>0.0</td>\n",
       "      <td>79.0</td>\n",
       "      <td>1.0</td>\n",
       "      <td>0.0</td>\n",
       "      <td>1.0</td>\n",
       "      <td>3.0</td>\n",
       "      <td>0.0</td>\n",
       "      <td>174.12</td>\n",
       "      <td>24.0</td>\n",
       "      <td>2.0</td>\n",
       "    </tr>\n",
       "  </tbody>\n",
       "</table>\n",
       "</div>"
      ],
      "text/plain": [
       "   gender   age  hypertension  heart_disease  ever_married  work_type  \\\n",
       "0     1.0  67.0           0.0            1.0           1.0        2.0   \n",
       "1     0.0  61.0           0.0            0.0           1.0        3.0   \n",
       "2     1.0  80.0           0.0            1.0           1.0        2.0   \n",
       "3     0.0  49.0           0.0            0.0           1.0        2.0   \n",
       "4     0.0  79.0           1.0            0.0           1.0        3.0   \n",
       "\n",
       "   Residence_type  avg_glucose_level   bmi  smoking_status  \n",
       "0             1.0             228.69  29.0             1.0  \n",
       "1             0.0             202.21  29.0             2.0  \n",
       "2             1.0             105.92  32.5             2.0  \n",
       "3             1.0             171.23  34.4             3.0  \n",
       "4             0.0             174.12  24.0             2.0  "
      ]
     },
     "execution_count": 76,
     "metadata": {},
     "output_type": "execute_result"
    }
   ],
   "source": [
    "data_without_tr[['gender', 'smoking_status','ever_married','work_type', 'Residence_type']] = \\\n",
    "OrdinalEncoder().fit_transform(data_without_tr[['gender', 'smoking_status','ever_married','work_type', 'Residence_type']])\n",
    "data_without_tr.head()"
   ]
  },
  {
   "cell_type": "markdown",
   "id": "873c31eb-b87e-467d-82bd-808808f77f3c",
   "metadata": {},
   "source": [
    "# Делю на тестовую и тренировачную выборки"
   ]
  },
  {
   "cell_type": "code",
   "execution_count": 77,
   "id": "c359a712-0839-4a98-a2ae-4f703a57624f",
   "metadata": {},
   "outputs": [],
   "source": [
    "train, test, target_train, target_test = train_test_split(\n",
    "    data_without_tr, tr, test_size=0.2, random_state=12345)"
   ]
  },
  {
   "cell_type": "markdown",
   "id": "c3e856b3-cb76-4c2b-a5b7-b6aa68f10423",
   "metadata": {},
   "source": [
    "# Логистическая регрессия"
   ]
  },
  {
   "cell_type": "code",
   "execution_count": 78,
   "id": "00679bfd-1a63-410c-a615-3fac737522b4",
   "metadata": {},
   "outputs": [
    {
     "name": "stdout",
     "output_type": "stream",
     "text": [
      "Значение F1 = 0.9707955689828802, значение precision = 0.9432485322896281, значение recall = 1.0, значение accuracy = 0.9432485322896281\n"
     ]
    }
   ],
   "source": [
    "clf_log = LogisticRegression(random_state=12345, solver='lbfgs', max_iter=500)\n",
    "clf_log.fit(train, target_train)\n",
    "pred_log = clf_log.predict(test)\n",
    "f_1_log = f1_score(target_test, pred_log, average='weighted', labels=np.unique(pred_log))\n",
    "precision = precision_score(target_test, pred_log, average='weighted', labels=np.unique(pred_log))\n",
    "recall = recall_score(target_test, pred_log, average='weighted', labels=np.unique(pred_log))\n",
    "accuracy_log = accuracy_score(target_test, pred_log)\n",
    "print('Значение F1 = {}, значение precision = {}, значение recall = {}, значение accuracy = {}'.format(f_1_log, precision, recall, accuracy_log))"
   ]
  },
  {
   "cell_type": "markdown",
   "id": "f6b1a6bb-71d8-45c6-a6a8-4720ba0f58cb",
   "metadata": {},
   "source": [
    "# Перцептрон"
   ]
  },
  {
   "cell_type": "code",
   "execution_count": 79,
   "id": "43636008-ef02-4552-bce2-30bcca531c9e",
   "metadata": {},
   "outputs": [
    {
     "name": "stdout",
     "output_type": "stream",
     "text": [
      "Значение F1 = 0.9009244919958154, значение precision = 0.9080869039580328, значение recall = 0.8943248532289628, значение accuracy = 0.8943248532289628\n"
     ]
    }
   ],
   "source": [
    "Perc = Perceptron(random_state=12345)\n",
    "Perc.fit(train, target_train)\n",
    "pred_log = Perc.predict(test)\n",
    "f_1_log = f1_score(target_test, pred_log, average='weighted', labels=np.unique(pred_log))\n",
    "precision = precision_score(target_test, pred_log, average='weighted', labels=np.unique(pred_log))\n",
    "recall = recall_score(target_test, pred_log, average='weighted', labels=np.unique(pred_log))\n",
    "accuracy_log = accuracy_score(target_test, pred_log)\n",
    "print('Значение F1 = {}, значение precision = {}, значение recall = {}, значение accuracy = {}'.format(f_1_log, precision, recall, accuracy_log))"
   ]
  },
  {
   "cell_type": "markdown",
   "id": "8a723d87-8f0b-4fa1-876f-b9aa64df6396",
   "metadata": {},
   "source": [
    "# Часть с исследованием\n",
    "# Как влияет курение на риск инсульта у мужчин и женщин"
   ]
  },
  {
   "cell_type": "code",
   "execution_count": 24,
   "id": "1c4688ce-a3dc-404d-abb5-6eeb93aa6055",
   "metadata": {},
   "outputs": [
    {
     "name": "stdout",
     "output_type": "stream",
     "text": [
      "never smoked man 4.25\n",
      "never smoked women 5.4\n",
      "---\n",
      "Unknown man 3.21\n",
      "Unknown women 3.09\n",
      "---\n",
      "formerly smoked man 9.7\n",
      "formerly smoked women 7.67\n",
      "---\n",
      "smokes man 7.32\n",
      "smokes women 4.42\n",
      "---\n"
     ]
    },
    {
     "data": {
      "image/png": "[encoded data removed]",
      "text/plain": [
       "<Figure size 504x216 with 2 Axes>"
      ]
     },
     "metadata": {
      "needs_background": "light"
     },
     "output_type": "display_data"
    },
    {
     "data": {
      "image/png": "[encoded data removed]",
      "text/plain": [
       "<Figure size 504x216 with 2 Axes>"
      ]
     },
     "metadata": {
      "needs_background": "light"
     },
     "output_type": "display_data"
    },
    {
     "data": {
      "image/png": "[encoded data removed]",
      "text/plain": [
       "<Figure size 504x216 with 2 Axes>"
      ]
     },
     "metadata": {
      "needs_background": "light"
     },
     "output_type": "display_data"
    },
    {
     "data": {
      "image/png": "[encoded data removed]",
      "text/plain": [
       "<Figure size 504x216 with 2 Axes>"
      ]
     },
     "metadata": {
      "needs_background": "light"
     },
     "output_type": "display_data"
    }
   ],
   "source": [
    "for i in ['never smoked', 'Unknown', 'formerly smoked', 'smokes']:\n",
    "    tmp_df = data[data['smoking_status'] == i]\n",
    "    man = tmp_df[tmp_df['gender'] == 'Male']\n",
    "    women = tmp_df[tmp_df['gender'] == 'Female']\n",
    "    stroke_man = man['stroke']\n",
    "    stroke_women = women['stroke']\n",
    "\n",
    "    fig = plt.figure(figsize=(7,3))\n",
    "    fig.suptitle(i)\n",
    "\n",
    "    plt.subplot(1,2,1)\n",
    "    plt.xlabel('man')\n",
    "    plt.xticks([0,1])\n",
    "    plt.hist(stroke_man)\n",
    "\n",
    "    plt.subplot(1,2,2)\n",
    "    plt.xlabel('women')\n",
    "    plt.xticks([0,1])\n",
    "    plt.hist(stroke_women)\n",
    "    print(i, 'man',round((Counter(stroke_man)[1]/Counter(stroke_man)[0] * 100), 2))\n",
    "    print(i, 'women',round((Counter(stroke_women)[1]/Counter(stroke_women)[0] * 100), 2))\n",
    "    print('---')"
   ]
  },
  {
   "cell_type": "markdown",
   "id": "aefa741b-151e-4066-974a-268918e3ead1",
   "metadata": {},
   "source": [
    "# Влияние среды обитания"
   ]
  },
  {
   "cell_type": "code",
   "execution_count": 25,
   "id": "7780ed57-2cff-4e9d-a4e4-279403044456",
   "metadata": {},
   "outputs": [
    {
     "name": "stdout",
     "output_type": "stream",
     "text": [
      "Urban man 5.41\n",
      "Urban women 5.06\n",
      "---\n",
      "Rural man 5.34\n",
      "Rural women 4.8\n",
      "---\n"
     ]
    },
    {
     "data": {
      "image/png": "[encoded data removed]",
      "text/plain": [
       "<Figure size 504x216 with 2 Axes>"
      ]
     },
     "metadata": {
      "needs_background": "light"
     },
     "output_type": "display_data"
    },
    {
     "data": {
      "image/png": "[encoded data removed]",
      "text/plain": [
       "<Figure size 504x216 with 2 Axes>"
      ]
     },
     "metadata": {
      "needs_background": "light"
     },
     "output_type": "display_data"
    }
   ],
   "source": [
    "for i in ['Urban','Rural']:\n",
    "    tmp_df = data[data['Residence_type'] == i]\n",
    "    man = tmp_df[tmp_df['gender'] == 'Male']\n",
    "    women = tmp_df[tmp_df['gender'] == 'Female']\n",
    "    stroke_man = man['stroke']\n",
    "    stroke_women = women['stroke']\n",
    "\n",
    "    fig = plt.figure(figsize=(7,3))\n",
    "    fig.suptitle(i)\n",
    "\n",
    "    plt.subplot(1,2,1)\n",
    "    plt.xlabel('man')\n",
    "    plt.xticks([0,1])\n",
    "    plt.hist(stroke_man)\n",
    "\n",
    "    plt.subplot(1,2,2)\n",
    "    plt.xlabel('women')\n",
    "    plt.xticks([0,1])\n",
    "    plt.hist(stroke_women)\n",
    "    print(i, 'man',round((Counter(stroke_man)[1]/Counter(stroke_man)[0] * 100), 2))\n",
    "    print(i, 'women',round((Counter(stroke_women)[1]/Counter(stroke_women)[0] * 100), 2))\n",
    "    print('---')"
   ]
  },
  {
   "cell_type": "markdown",
   "id": "0c160b35-87c4-4be2-95a5-46f3ff03b87b",
   "metadata": {},
   "source": [
    "# Зависимость инсульта от индекса массы тела"
   ]
  },
  {
   "cell_type": "code",
   "execution_count": 41,
   "id": "714dbe5b-ddfb-44c6-9fd1-a281c843b398",
   "metadata": {},
   "outputs": [
    {
     "name": "stdout",
     "output_type": "stream",
     "text": [
      "(10, 15) man 0.0\n",
      "(10, 15) women 0.0\n",
      "---\n",
      "(15, 20) man 0.0\n",
      "(15, 20) women 1.47\n",
      "---\n",
      "(20, 25) man 2.36\n",
      "(20, 25) women 3.47\n",
      "---\n",
      "(25, 30) man 7.2\n",
      "(25, 30) women 6.73\n",
      "---\n",
      "(30, 35) man 6.58\n",
      "(30, 35) women 5.49\n",
      "---\n",
      "(35, 40) man 4.0\n",
      "(35, 40) women 3.63\n",
      "---\n",
      "(40, 45) man 6.85\n",
      "(40, 45) women 4.38\n",
      "---\n",
      "(45, 50) man 16.67\n",
      "(45, 50) women 3.85\n",
      "---\n",
      "(50, 55) man 0.0\n",
      "(50, 55) women 0.0\n",
      "---\n",
      "(55, 60) man 0.0\n",
      "(55, 60) women 8.33\n",
      "---\n"
     ]
    },
    {
     "data": {
      "image/png": "[encoded data removed]",
      "text/plain": [
       "<Figure size 504x216 with 2 Axes>"
      ]
     },
     "metadata": {
      "needs_background": "light"
     },
     "output_type": "display_data"
    },
    {
     "data": {
      "image/png": "[encoded data removed]",
      "text/plain": [
       "<Figure size 504x216 with 2 Axes>"
      ]
     },
     "metadata": {
      "needs_background": "light"
     },
     "output_type": "display_data"
    },
    {
     "data": {
      "image/png": "[encoded data removed]",
      "text/plain": [
       "<Figure size 504x216 with 2 Axes>"
      ]
     },
     "metadata": {
      "needs_background": "light"
     },
     "output_type": "display_data"
    },
    {
     "data": {
      "image/png": "[encoded data removed]",
      "text/plain": [
       "<Figure size 504x216 with 2 Axes>"
      ]
     },
     "metadata": {
      "needs_background": "light"
     },
     "output_type": "display_data"
    },
    {
     "data": {
      "image/png": "[encoded data removed]",
      "text/plain": [
       "<Figure size 504x216 with 2 Axes>"
      ]
     },
     "metadata": {
      "needs_background": "light"
     },
     "output_type": "display_data"
    },
    {
     "data": {
      "image/png": "[encoded data removed]",
      "text/plain": [
       "<Figure size 504x216 with 2 Axes>"
      ]
     },
     "metadata": {
      "needs_background": "light"
     },
     "output_type": "display_data"
    },
    {
     "data": {
      "image/png": "[encoded data removed]",
      "text/plain": [
       "<Figure size 504x216 with 2 Axes>"
      ]
     },
     "metadata": {
      "needs_background": "light"
     },
     "output_type": "display_data"
    },
    {
     "data": {
      "image/png": "[encoded data removed]",
      "text/plain": [
       "<Figure size 504x216 with 2 Axes>"
      ]
     },
     "metadata": {
      "needs_background": "light"
     },
     "output_type": "display_data"
    },
    {
     "data": {
      "image/png": "[encoded data removed]",
      "text/plain": [
       "<Figure size 504x216 with 2 Axes>"
      ]
     },
     "metadata": {
      "needs_background": "light"
     },
     "output_type": "display_data"
    },
    {
     "data": {
      "image/png": "[encoded data removed]",
      "text/plain": [
       "<Figure size 504x216 with 2 Axes>"
      ]
     },
     "metadata": {
      "needs_background": "light"
     },
     "output_type": "display_data"
    }
   ],
   "source": [
    "bmi_list = [(i-5,i) for i in range(15,65,5)]\n",
    "for i in bmi_list:\n",
    "    tmp_df = data[data['bmi'] >= i[0]]\n",
    "    tmp_df = tmp_df[tmp_df['bmi'] < i[1]]\n",
    "    man = tmp_df[tmp_df['gender'] == 'Male']\n",
    "    women = tmp_df[tmp_df['gender'] == 'Female']\n",
    "    stroke_man = man['stroke']\n",
    "    stroke_women = women['stroke']\n",
    "\n",
    "    fig = plt.figure(figsize=(7,3))\n",
    "    fig.suptitle(i)\n",
    "\n",
    "    plt.subplot(1,2,1)\n",
    "    plt.xlabel('man')\n",
    "    plt.xticks([0,1])\n",
    "    plt.hist(stroke_man)\n",
    "\n",
    "    plt.subplot(1,2,2)\n",
    "    plt.xlabel('women')\n",
    "    plt.xticks([0,1])\n",
    "    plt.hist(stroke_women)\n",
    "    print(i, 'man',round((Counter(stroke_man)[1]/(Counter(stroke_man)[0]+1) * 100), 2))\n",
    "    print(i, 'women',round((Counter(stroke_women)[1]/(Counter(stroke_women)[0]+1) * 100), 2))\n",
    "    print('---')"
   ]
  },
  {
   "cell_type": "markdown",
   "id": "bd01caed-2bd7-4ccd-bb62-9d92d61286ce",
   "metadata": {},
   "source": [
    "Судя по всему, у женщин риск инсульта ниже, чем у мужчин. Среда обитания особо не влияет на развитие инсульта. А вот индекс массы тела влияет. Чем он выше, тем выше риск инсульта. Но с определенного индекса (40 - 45) данные становятся нерепрезентативные, потому что выборка мала. Курение тоже оказывает влияние, у пассивных курильщиков даже выше риск. Можно дальше перебирать данные, но я показал, что могу работать и с категориальными и с численными."
   ]
  }
 ],
 "metadata": {
  "kernelspec": {
   "display_name": "Python 3 (ipykernel)",
   "language": "python",
   "name": "python3"
  },
  "language_info": {
   "codemirror_mode": {
    "name": "ipython",
    "version": 3
   },
   "file_extension": ".py",
   "mimetype": "text/x-python",
   "name": "python",
   "nbconvert_exporter": "python",
   "pygments_lexer": "ipython3",
   "version": "3.10.5"
  }
 },
 "nbformat": 4,
 "nbformat_minor": 5
}
